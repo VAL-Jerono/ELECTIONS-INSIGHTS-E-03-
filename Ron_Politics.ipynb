{
 "cells": [
  {
   "cell_type": "markdown",
   "metadata": {},
   "source": []
  },
  {
   "cell_type": "code",
   "execution_count": 1,
   "metadata": {},
   "outputs": [
    {
     "name": "stdout",
     "output_type": "stream",
     "text": [
      "['Political form', 'Sheet1']\n"
     ]
    }
   ],
   "source": [
    "import pandas as pd\n",
    "\n",
    "# Load the Excel file\n",
    "file_path = \"ELECTIONS.xlsx\"  \n",
    "sheets = pd.ExcelFile(file_path)\n",
    "\n",
    "# Display sheet names\n",
    "print(sheets.sheet_names)\n",
    "\n",
    "# Load each sheet into a DataFrame\n",
    "political_form = sheets.parse(\"Political form\")  \n",
    "sheet1 = sheets.parse(\"Sheet1\") \n"
   ]
  },
  {
   "cell_type": "code",
   "execution_count": 2,
   "metadata": {},
   "outputs": [
    {
     "data": {
      "text/plain": [
       "['Political form', 'Sheet1']"
      ]
     },
     "execution_count": 2,
     "metadata": {},
     "output_type": "execute_result"
    }
   ],
   "source": [
    "import pandas as pd\n",
    "\n",
    "# Define the file path\n",
    "file_path = \"ELECTIONS.xlsx\"\n",
    "\n",
    "# Load the Excel file and check sheet names\n",
    "xls = pd.ExcelFile(file_path)\n",
    "xls.sheet_names\n"
   ]
  },
  {
   "cell_type": "markdown",
   "metadata": {},
   "source": [
    "The Excel file contains two sheets:\n",
    "\n",
    "- Political form\n",
    "- Sheet1"
   ]
  },
  {
   "cell_type": "code",
   "execution_count": 3,
   "metadata": {},
   "outputs": [
    {
     "data": {
      "text/plain": [
       "(                    start                     end  Enrollment Number  \\\n",
       " 0 2023-05-15 15:14:02.994 2023-05-15 15:17:11.162               4001   \n",
       " 1 2023-05-15 22:25:48.557 2023-05-15 22:27:44.505             800116   \n",
       " 2 2023-05-15 22:32:38.130 2023-05-15 22:45:09.993             800111   \n",
       " 3 2023-05-16 10:17:05.512 2023-05-16 10:22:31.477             800140   \n",
       " 4 2023-05-18 08:23:59.311 2023-05-18 08:33:17.272             800146   \n",
       " \n",
       "                                        Location  _Location_latitude  \\\n",
       " 0              -0.3552632 34.7552613 0.0 3000.0           -0.355263   \n",
       " 1              0.336606 37.5641233 1141.9 4.466            0.336606   \n",
       " 2  -1.153349 36.9162069 1537.5999755859375 20.0           -1.153349   \n",
       " 3                -1.2547935 36.9001899 0.0 20.9           -1.254793   \n",
       " 4             -2.6296274 38.1185042 750.603 3.9           -2.629627   \n",
       " \n",
       "    _Location_longitude  _Location_altitude  _Location_precision  \\\n",
       " 0            34.755261            0.000000             3000.000   \n",
       " 1            37.564123         1141.900000                4.466   \n",
       " 2            36.916207         1537.599976               20.000   \n",
       " 3            36.900190            0.000000               20.900   \n",
       " 4            38.118504          750.603000                3.900   \n",
       " \n",
       "         Date and Time    Age  ...        _id  \\\n",
       " 0 2023-05-15 15:14:00  50-59  ...  238327833   \n",
       " 1 2023-05-15 22:26:00  20-29  ...  238436622   \n",
       " 2 2023-05-15 22:34:00  20-29  ...  238438952   \n",
       " 3 2023-05-16 10:17:00  20-29  ...  238519273   \n",
       " 4 2023-05-18 08:27:00  20-29  ...  239059150   \n",
       " \n",
       "                                   _uuid    _submission_time  \\\n",
       " 0  ad968d31-2518-4884-83cf-82701c682c16 2023-05-15 12:20:00   \n",
       " 1  dad9bd3f-8916-4d1a-8d44-aba0a8b84dff 2023-05-15 19:27:52   \n",
       " 2  53fa1ac1-4153-4d3d-a875-fe5db0a0e4c6 2023-05-15 19:46:33   \n",
       " 3  3d7ac288-cf9b-47e2-a658-ed741ae23895 2023-05-16 07:22:46   \n",
       " 4  a1609008-d0b7-4f22-a170-45a9599a5d7e 2023-05-18 05:33:30   \n",
       " \n",
       "   _validation_status _notes            _status _submitted_by  \\\n",
       " 0                NaN    NaN  submitted_via_web    safra_data   \n",
       " 1                NaN    NaN  submitted_via_web    safra_data   \n",
       " 2                NaN    NaN  submitted_via_web    safra_data   \n",
       " 3                NaN    NaN  submitted_via_web    safra_data   \n",
       " 4                NaN    NaN  submitted_via_web    safra_data   \n",
       " \n",
       "               __version__ _tags _index  \n",
       " 0  vNX83DW9mzvDcv5eBqBF7x   NaN      1  \n",
       " 1  vNX83DW9mzvDcv5eBqBF7x   NaN      2  \n",
       " 2  vNX83DW9mzvDcv5eBqBF7x   NaN      3  \n",
       " 3  vNX83DW9mzvDcv5eBqBF7x   NaN      4  \n",
       " 4  vNX83DW9mzvDcv5eBqBF7x   NaN      5  \n",
       " \n",
       " [5 rows x 52 columns],\n",
       "    Year  Registered voters/turnout  Total Votes  Turnout percentage\n",
       " 0  2002                   10451150      5975910           57.179449\n",
       " 1  2007                   14296180      9877028           69.088582\n",
       " 2  2012                   14352533     12330028           85.908376\n",
       " 3  2017                   19611423     15593050           79.510039\n",
       " 4  2022                   22120458     14326641           64.766475)"
      ]
     },
     "execution_count": 3,
     "metadata": {},
     "output_type": "execute_result"
    }
   ],
   "source": [
    "# Load both sheets into separate DataFrames\n",
    "df_political_form = pd.read_excel(xls, sheet_name=\"Political form\")\n",
    "df_sheet1 = pd.read_excel(xls, sheet_name=\"Sheet1\")\n",
    "\n",
    "# Display the first few rows of each sheet\n",
    "df_political_form.head(), df_sheet1.head()\n"
   ]
  },
  {
   "cell_type": "markdown",
   "metadata": {},
   "source": [
    "**Sheet: \"Political form\"**\n",
    "\n",
    "- Contains election-related data, including timestamps, location details, voter enrollment numbers, and age groups.\n",
    "- It also has metadata like submission time, UUID, and validation status.\n",
    "- Some columns might be unnecessary for analysis, such as _uuid, _tags, and _status.\n",
    "- Location data is split across multiple columns, possibly needing cleanup.\n",
    "\n",
    "**Sheet: \"Sheet1\"**\n",
    "\n",
    "- Contains historical election turnout data.\n",
    "- Includes year, registered voters, total votes cast, and turnout percentage.\n",
    "- The data appears clean but needs verification for consistency."
   ]
  },
  {
   "cell_type": "code",
   "execution_count": 4,
   "metadata": {},
   "outputs": [
    {
     "data": {
      "text/plain": [
       "(start                                                                                                                                                                                            0\n",
       " end                                                                                                                                                                                              0\n",
       " Enrollment Number                                                                                                                                                                                0\n",
       " Location                                                                                                                                                                                         6\n",
       " _Location_latitude                                                                                                                                                                               6\n",
       " _Location_longitude                                                                                                                                                                              6\n",
       " _Location_altitude                                                                                                                                                                               6\n",
       " _Location_precision                                                                                                                                                                              6\n",
       " Date and Time                                                                                                                                                                                  149\n",
       " Age                                                                                                                                                                                              6\n",
       " Gender                                                                                                                                                                                           8\n",
       " Marital Status                                                                                                                                                                                  10\n",
       " How many children do you have, if any?                                                                                                                                                         607\n",
       " Education Level                                                                                                                                                                                185\n",
       " Employment Status                                                                                                                                                                               11\n",
       " Monthly Household Income                                                                                                                                                                       181\n",
       " Did you vote in the previous election?                                                                                                                                                           7\n",
       " If you didn't vote, what was the reason?                                                                                                                                                      2916\n",
       " If other specify.                                                                                                                                                                             4186\n",
       " Would you be willing to vote in the next election?                                                                                                                                              47\n",
       " What are the most important issues in your local area that you would like to see changed? Please select up to three from the following list, or add your own                                    14\n",
       " What are the most important issues in your local area that you would like to see changed? Please select up to three from the following list, or add your own/Education                          14\n",
       " What are the most important issues in your local area that you would like to see changed? Please select up to three from the following list, or add your own/Healthcare                         14\n",
       " What are the most important issues in your local area that you would like to see changed? Please select up to three from the following list, or add your own/Jobs/Employment                    14\n",
       " What are the most important issues in your local area that you would like to see changed? Please select up to three from the following list, or add your own/Affordable Housing                 14\n",
       " What are the most important issues in your local area that you would like to see changed? Please select up to three from the following list, or add your own/Crime and Safety                   14\n",
       " What are the most important issues in your local area that you would like to see changed? Please select up to three from the following list, or add your own/Transportation/Infrastructure      14\n",
       " What are the most important issues in your local area that you would like to see changed? Please select up to three from the following list, or add your own/Environment/Climate Change         14\n",
       " What are the most important issues in your local area that you would like to see changed? Please select up to three from the following list, or add your own/Taxes                              14\n",
       " What are the most important issues in your local area that you would like to see changed? Please select up to three from the following list, or add your own/Social Justice/Equality            14\n",
       " What are the most important issues in your local area that you would like to see changed? Please select up to three from the following list, or add your own/Other                              14\n",
       " If other specify..1                                                                                                                                                                           4079\n",
       " How interested are you in politics?                                                                                                                                                             12\n",
       " How do you get your news and information about politics?                                                                                                                                        27\n",
       " How do you get your news and information about politics?/TV News                                                                                                                                27\n",
       " How do you get your news and information about politics?/Social Media                                                                                                                           27\n",
       " How do you get your news and information about politics?/Print Newspapers                                                                                                                       27\n",
       " How do you get your news and information about politics?/Online News Websites                                                                                                                   27\n",
       " How do you get your news and information about politics?/Radio                                                                                                                                  27\n",
       " How do you get your news and information about politics?/Other                                                                                                                                  27\n",
       " If other, specify.                                                                                                                                                                            4317\n",
       " Have you ever volunteered for a political campaign or cause?                                                                                                                                    14\n",
       " _id                                                                                                                                                                                              0\n",
       " _uuid                                                                                                                                                                                            0\n",
       " _submission_time                                                                                                                                                                                 0\n",
       " _validation_status                                                                                                                                                                            4537\n",
       " _notes                                                                                                                                                                                        4537\n",
       " _status                                                                                                                                                                                          0\n",
       " _submitted_by                                                                                                                                                                                    0\n",
       " __version__                                                                                                                                                                                      0\n",
       " _tags                                                                                                                                                                                         4537\n",
       " _index                                                                                                                                                                                           0\n",
       " dtype: int64,\n",
       " 0)"
      ]
     },
     "execution_count": 4,
     "metadata": {},
     "output_type": "execute_result"
    }
   ],
   "source": [
    "# Check for missing values in the \"Political form\" sheet\n",
    "missing_values = df_political_form.isnull().sum()\n",
    "\n",
    "# Check for duplicate entries\n",
    "duplicate_entries = df_political_form.duplicated().sum()\n",
    "\n",
    "# Display summary\n",
    "missing_values, duplicate_entries\n"
   ]
  },
  {
   "cell_type": "markdown",
   "metadata": {},
   "source": [
    "Key Findings from the Missing Values & Duplicate Check\n",
    "\n",
    "- No duplicate entries, which is good.\n",
    "\n",
    "- Missing values in key fields like:\n",
    "\n",
    "- Date and Time (149 missing) – could indicate incomplete records.\n",
    "- Location and GPS data (6 missing) – could be due to device issues or intentional removal.\n",
    "- Gender (8 missing) and Age (6 missing) – might need imputation or removal.\n",
    "- Marital Status, Employment Status, and Education Level also have a few missing values.\n",
    "- Children, Household Income, and Voting-related questions have substantial missing data, especially If you didn't vote, what was the reason? (2,916 missing).\n",
    "\n",
    "\n",
    "Potential Issues for Fraud Detection:\n",
    "\n",
    "- Missing or inconsistent location data could indicate fake or tampered entries.\n",
    "- Date and Time missing might suggest ghost (non-existent) entries.\n",
    "- Many missing values in If other specify fields might indicate incomplete survey responses."
   ]
  }
 ],
 "metadata": {
  "kernelspec": {
   "display_name": "base",
   "language": "python",
   "name": "python3"
  },
  "language_info": {
   "codemirror_mode": {
    "name": "ipython",
    "version": 3
   },
   "file_extension": ".py",
   "mimetype": "text/x-python",
   "name": "python",
   "nbconvert_exporter": "python",
   "pygments_lexer": "ipython3",
   "version": "3.11.7"
  }
 },
 "nbformat": 4,
 "nbformat_minor": 2
}
